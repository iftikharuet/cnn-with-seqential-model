{
  "nbformat": 4,
  "nbformat_minor": 0,
  "metadata": {
    "colab": {
      "name": "CNN with sequential model.ipynb",
      "provenance": []
    },
    "kernelspec": {
      "name": "python3",
      "display_name": "Python 3"
    },
    "accelerator": "GPU"
  },
  "cells": [
    {
      "cell_type": "code",
      "metadata": {
        "id": "twWuzed_fH0e"
      },
      "source": [
        "import tensorflow as tf\r\n",
        "from tensorflow import keras\r\n",
        "from tensorflow.keras import layers\r\n",
        "import numpy as np"
      ],
      "execution_count": 6,
      "outputs": []
    },
    {
      "cell_type": "code",
      "metadata": {
        "id": "jJQFW0TFfInL"
      },
      "source": [
        "# Model / data parameters\r\n",
        "num_classes = 10\r\n",
        "input_shape = (28, 28, 1)"
      ],
      "execution_count": 7,
      "outputs": []
    },
    {
      "cell_type": "code",
      "metadata": {
        "id": "xkDC86JvfK_s"
      },
      "source": [
        "(x_train, y_train), (x_test, y_test) = keras.datasets.mnist.load_data()"
      ],
      "execution_count": 8,
      "outputs": []
    },
    {
      "cell_type": "code",
      "metadata": {
        "colab": {
          "base_uri": "https://localhost:8080/"
        },
        "id": "Y8IWlpfmfNWn",
        "outputId": "3c5b5b11-f2ff-4249-9203-9835ebc9a4fc"
      },
      "source": [
        "x_train = np.expand_dims(x_train, -1)\r\n",
        "x_test = np.expand_dims(x_test, -1)\r\n",
        "print(\"x_train shape:\", x_train.shape)\r\n",
        "print(x_train.shape[0], \"train samples\")\r\n",
        "print(x_test.shape[0], \"test samples\")"
      ],
      "execution_count": 9,
      "outputs": [
        {
          "output_type": "stream",
          "text": [
            "x_train shape: (60000, 28, 28, 1)\n",
            "60000 train samples\n",
            "10000 test samples\n"
          ],
          "name": "stdout"
        }
      ]
    },
    {
      "cell_type": "code",
      "metadata": {
        "id": "H2Ueo3jWfRQt"
      },
      "source": [
        "\r\n",
        "y_train = keras.utils.to_categorical(y_train, num_classes)\r\n",
        "y_test = keras.utils.to_categorical(y_test, num_classes)\r\n"
      ],
      "execution_count": 10,
      "outputs": []
    },
    {
      "cell_type": "code",
      "metadata": {
        "colab": {
          "base_uri": "https://localhost:8080/"
        },
        "id": "-nII95mKfUyo",
        "outputId": "7d9e4c92-faad-4dd6-e68a-e5270d7776c0"
      },
      "source": [
        "model = keras.Sequential(\r\n",
        "    [\r\n",
        "        keras.Input(shape=input_shape),\r\n",
        "        layers.Conv2D(32, kernel_size=(3, 3), activation=\"relu\"),\r\n",
        "        layers.MaxPooling2D(pool_size=(2, 2)),\r\n",
        "        layers.Conv2D(64, kernel_size=(3, 3), activation=\"relu\"),\r\n",
        "        layers.MaxPooling2D(pool_size=(2, 2)),\r\n",
        "        layers.Flatten(),\r\n",
        "        layers.Dropout(0.5),\r\n",
        "        layers.Dense(num_classes, activation=\"softmax\"),\r\n",
        "    ]\r\n",
        ")\r\n",
        "\r\n",
        "model.summary()"
      ],
      "execution_count": 11,
      "outputs": [
        {
          "output_type": "stream",
          "text": [
            "Model: \"sequential\"\n",
            "_________________________________________________________________\n",
            "Layer (type)                 Output Shape              Param #   \n",
            "=================================================================\n",
            "conv2d (Conv2D)              (None, 26, 26, 32)        320       \n",
            "_________________________________________________________________\n",
            "max_pooling2d (MaxPooling2D) (None, 13, 13, 32)        0         \n",
            "_________________________________________________________________\n",
            "conv2d_1 (Conv2D)            (None, 11, 11, 64)        18496     \n",
            "_________________________________________________________________\n",
            "max_pooling2d_1 (MaxPooling2 (None, 5, 5, 64)          0         \n",
            "_________________________________________________________________\n",
            "flatten (Flatten)            (None, 1600)              0         \n",
            "_________________________________________________________________\n",
            "dropout (Dropout)            (None, 1600)              0         \n",
            "_________________________________________________________________\n",
            "dense_3 (Dense)              (None, 10)                16010     \n",
            "=================================================================\n",
            "Total params: 34,826\n",
            "Trainable params: 34,826\n",
            "Non-trainable params: 0\n",
            "_________________________________________________________________\n"
          ],
          "name": "stdout"
        }
      ]
    },
    {
      "cell_type": "code",
      "metadata": {
        "colab": {
          "base_uri": "https://localhost:8080/"
        },
        "id": "ktq-1F95fXab",
        "outputId": "38a3e06c-fb7b-458a-ab02-4f6d0c9fdbdf"
      },
      "source": [
        "batch_size = 128\r\n",
        "epochs = 1\r\n",
        "\r\n",
        "model.compile(loss=\"categorical_crossentropy\", optimizer=\"adam\", metrics=[\"accuracy\"])\r\n",
        "\r\n",
        "model.fit(x_train, y_train, batch_size=batch_size, epochs=epochs, validation_split=0.1)"
      ],
      "execution_count": 12,
      "outputs": [
        {
          "output_type": "stream",
          "text": [
            "422/422 [==============================] - 7s 6ms/step - loss: 3.9268 - accuracy: 0.7244 - val_loss: 0.0821 - val_accuracy: 0.9755\n"
          ],
          "name": "stdout"
        },
        {
          "output_type": "execute_result",
          "data": {
            "text/plain": [
              "<tensorflow.python.keras.callbacks.History at 0x7fb0eda80278>"
            ]
          },
          "metadata": {
            "tags": []
          },
          "execution_count": 12
        }
      ]
    },
    {
      "cell_type": "code",
      "metadata": {
        "colab": {
          "base_uri": "https://localhost:8080/"
        },
        "id": "8j_wHXRdfcxn",
        "outputId": "e3261367-7a87-47ad-cce5-7595b12a0754"
      },
      "source": [
        "\r\n",
        "score = model.evaluate(x_test, y_test, verbose=0)\r\n",
        "print(\"Test loss:\", score[0])\r\n",
        "print(\"Test accuracy:\", score[1])"
      ],
      "execution_count": 13,
      "outputs": [
        {
          "output_type": "stream",
          "text": [
            "Test loss: 0.09481436759233475\n",
            "Test accuracy: 0.9718999862670898\n"
          ],
          "name": "stdout"
        }
      ]
    },
    {
      "cell_type": "code",
      "metadata": {
        "id": "CLHCrxayfjx6"
      },
      "source": [
        ""
      ],
      "execution_count": null,
      "outputs": []
    }
  ]
}